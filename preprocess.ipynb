{
 "cells": [
  {
   "cell_type": "code",
   "execution_count": 1,
   "metadata": {
    "collapsed": true
   },
   "outputs": [],
   "source": [
    "import numpy as np\n",
    "import pandas as pd"
   ]
  },
  {
   "cell_type": "code",
   "execution_count": 2,
   "metadata": {
    "collapsed": true
   },
   "outputs": [],
   "source": [
    "# load horse data\n",
    "df = pd.read_csv('data/race-result-horse.csv')"
   ]
  },
  {
   "cell_type": "code",
   "execution_count": 3,
   "metadata": {
    "collapsed": true
   },
   "outputs": [],
   "source": [
    "# 2.2.1\n",
    "df = df[df['finishing_position'].apply(lambda x: str(x).isdigit())]"
   ]
  },
  {
   "cell_type": "code",
   "execution_count": 4,
   "metadata": {
    "collapsed": true
   },
   "outputs": [],
   "source": [
    "# 2.2.2\n",
    "horse_rank = {}\n",
    "horse_new_info = {}\n",
    "recent_6_runs = []\n",
    "recent_ave_rank = []\n",
    "for id in set(df.horse_id):\n",
    "    horse_rank[id] = []\n",
    "for i in range(len(df)):\n",
    "    horse = df.iloc[i]\n",
    "    horse_rank[horse.horse_id].append(int(horse.finishing_position))\n",
    "for id in horse_rank:\n",
    "    recent_6 = horse_rank[id][::-1][:6]\n",
    "    record = '/'.join([str(x) for x in recent_6])\n",
    "    if len(recent_6) == 0:\n",
    "        avg = 7\n",
    "    else:\n",
    "        avg = sum(recent_6) / len(recent_6)\n",
    "    horse_new_info[id] = {'recent_6_runs': record, 'recent_ave_rank': avg}\n",
    "for id in df['horse_id']:\n",
    "    recent_6_runs.append(horse_new_info[id]['recent_6_runs'])\n",
    "    recent_ave_rank.append(horse_new_info[id]['recent_ave_rank'])\n",
    "    \n",
    "df['recent_6_runs'] = recent_6_runs\n",
    "df['recent_ave_rank'] = recent_ave_rank"
   ]
  },
  {
   "cell_type": "code",
   "execution_count": 5,
   "metadata": {},
   "outputs": [
    {
     "name": "stdout",
     "output_type": "stream",
     "text": [
      "number of horses: 2155\n",
      "number of jockeys: 105\n",
      "number of trainers: 93\n"
     ]
    }
   ],
   "source": [
    "# 2.2.3\n",
    "horse_index = {k: v for v, k in enumerate(list(set(df.horse_id)))}\n",
    "jockey_index = {k: v for v, k in enumerate(list(set(df.jockey)))}\n",
    "trainer_index = {k: v for v, k in enumerate(list(set(df.trainer)))}\n",
    "jockey_record = [[] for i in range(len(jockey_index))]\n",
    "trainer_record = [[] for i in range(len(trainer_index))]\n",
    "jockey_ave_rank = []\n",
    "trainer_ave_rank = []\n",
    "print('number of horses: {}'.format(len(horse_index)))\n",
    "print('number of jockeys: {}'.format(len(jockey_index)))\n",
    "print('number of trainers: {}'.format(len(trainer_index)))\n",
    "for i in range(len(df)):\n",
    "    horse = df.iloc[i]\n",
    "    if horse.race_id > '2016-327':\n",
    "        splitpoint = i\n",
    "        break\n",
    "    jockey_id = jockey_index[horse.jockey]\n",
    "    trainer_id = trainer_index[horse.trainer]\n",
    "    jockey_record[jockey_id].append(int(horse.finishing_position))\n",
    "    trainer_record[trainer_id].append(int(horse.finishing_position))\n",
    "for i in range(len(df)):\n",
    "    horse = df.iloc[i]\n",
    "    jockey_id = jockey_index[horse.jockey]\n",
    "    trainer_id = trainer_index[horse.trainer]\n",
    "    if len(jockey_record[jockey_id]) == 0:\n",
    "        jockey_avg = 7\n",
    "    else:\n",
    "        jockey_avg = sum(jockey_record[jockey_id]) / len(jockey_record[jockey_id])\n",
    "    if len(trainer_record[trainer_id]) == 0:\n",
    "        trainer_avg = 7\n",
    "    else:\n",
    "        trainer_avg = sum(trainer_record[trainer_id]) / len(trainer_record[trainer_id])\n",
    "    jockey_ave_rank.append(jockey_avg)\n",
    "    trainer_ave_rank.append(trainer_avg)\n",
    "\n",
    "df['jockey_ave_rank'] = jockey_ave_rank\n",
    "df['trainer_ave_rank'] = trainer_ave_rank"
   ]
  },
  {
   "cell_type": "code",
   "execution_count": 8,
   "metadata": {
    "collapsed": true
   },
   "outputs": [],
   "source": [
    "# 2.2.4\n",
    "race_distance = []\n",
    "df2 = pd.read_csv('data/race-result-race.csv')\n",
    "race_id_distance = {k: v for k, v in zip(df2['race_id'], df2['race_distance'])}\n",
    "for i in range(len(df)):\n",
    "    horse = df.iloc[i]\n",
    "    race_distance.append(race_id_distance[horse.race_id])\n",
    "\n",
    "df['race_distance'] = race_distance"
   ]
  },
  {
   "cell_type": "code",
   "execution_count": 10,
   "metadata": {
    "collapsed": true
   },
   "outputs": [],
   "source": [
    "# 2.2.5\n",
    "df_train = df.iloc[:splitpoint]\n",
    "df_test = df.iloc[splitpoint:]\n",
    "df_train.to_csv('training.csv')\n",
    "df_test.to_csv('testing.csv')"
   ]
  },
  {
   "cell_type": "code",
   "execution_count": null,
   "metadata": {
    "collapsed": true
   },
   "outputs": [],
   "source": []
  }
 ],
 "metadata": {
  "kernelspec": {
   "display_name": "Python 3",
   "language": "python",
   "name": "python3"
  },
  "language_info": {
   "codemirror_mode": {
    "name": "ipython",
    "version": 3
   },
   "file_extension": ".py",
   "mimetype": "text/x-python",
   "name": "python",
   "nbconvert_exporter": "python",
   "pygments_lexer": "ipython3",
   "version": "3.6.1"
  }
 },
 "nbformat": 4,
 "nbformat_minor": 2
}
